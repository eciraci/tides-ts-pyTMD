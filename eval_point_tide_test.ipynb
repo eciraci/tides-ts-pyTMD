{
 "cells": [
  {
   "cell_type": "markdown",
   "metadata": {
    "collapsed": true,
    "pycharm": {
     "name": "#%% md\n"
    }
   },
   "source": [
    "## Compute Tidal Height Correction for a given for a given lat,lon,time"
   ]
  },
  {
   "cell_type": "code",
   "execution_count": 1,
   "outputs": [],
   "source": [
    "# - Import Python  Dependencies\n",
    "from __future__ import print_function\n",
    "import os\n",
    "import datetime\n",
    "import numpy as np\n",
    "import matplotlib.pyplot as plt\n",
    "# - pyTMD\n",
    "from pyTMD.read_tide_model import extract_tidal_constants\n",
    "from pyTMD.infer_minor_corrections import infer_minor_corrections\n",
    "from pyTMD.predict_tide import predict_tide\n",
    "from pyTMD.read_FES_model import extract_FES_constants"
   ],
   "metadata": {
    "collapsed": false,
    "pycharm": {
     "name": "#%%\n"
    }
   }
  },
  {
   "cell_type": "markdown",
   "source": [
    "## Processing Parameters"
   ],
   "metadata": {
    "collapsed": false,
    "pycharm": {
     "name": "#%% md\n"
    }
   }
  },
  {
   "cell_type": "code",
   "execution_count": 2,
   "outputs": [],
   "source": [
    "# - Absolute path to data directory\n",
    "data_dir = os.path.join('/', 'Volumes', 'Extreme Pro')  # - NEED TO EDIT\n",
    "\n",
    "# - Output Directory\n",
    "out_dir = os.path.join(os.path.expanduser('~'), 'Desktop')  # - NEED TO EDIT\n",
    "\n",
    "# - Processing Parameters\n",
    "model = 'CATS2008'      # - CATS2008 or FES2014\n",
    "date = '2020/10/10'\n",
    "\n",
    "# - Variable to Read\n",
    "var_type = 'z'\n",
    "# - Processing Parameters\n",
    "date_str = date.split('/')\n",
    "year = int(date_str[0])\n",
    "month = int(date_str[1])\n",
    "day = int(date_str[2])\n",
    "\n",
    "# - Other Parameters\n",
    "n_sec_x_day = 24.*60.*60."
   ],
   "metadata": {
    "collapsed": false,
    "pycharm": {
     "name": "#%%\n"
    }
   }
  },
  {
   "cell_type": "markdown",
   "source": [
    "## Sample Point Coordinates"
   ],
   "metadata": {
    "collapsed": false,
    "pycharm": {
     "name": "#%% md\n"
    }
   }
  },
  {
   "cell_type": "code",
   "source": [
    "# - Sample Point Coordinates\n",
    "pt_lat = -66.68\n",
    "pt_lon = 140.05"
   ],
   "metadata": {
    "collapsed": false,
    "pycharm": {
     "name": "#%%\n"
    }
   },
   "execution_count": 3,
   "outputs": []
  },
  {
   "cell_type": "code",
   "execution_count": 4,
   "outputs": [],
   "source": [
    "# - Calculate Number of days relative to Jan 1, 1992 (48622 MJD)\n",
    "# - using datetime\n",
    "t_jd_ref = datetime.datetime(year=1992, month=1, day=1, hour=0)\n",
    "t_est_tide = [datetime.datetime(year=year, month=month, day=day,\n",
    "                                hour=t) for t in range(0, 24)]\n",
    "\n",
    "# - Compute Datetime Values for the 24 Hours of the selected date.\n",
    "delta_time = [(t - t_jd_ref).total_seconds()/n_sec_x_day for t in t_est_tide]"
   ],
   "metadata": {
    "collapsed": false,
    "pycharm": {
     "name": "#%%\n"
    }
   }
  },
  {
   "cell_type": "markdown",
   "source": [
    "## Compute Tide Height for the seleted Date"
   ],
   "metadata": {
    "collapsed": false,
    "pycharm": {
     "name": "#%% md\n"
    }
   }
  },
  {
   "cell_type": "code",
   "execution_count": 5,
   "outputs": [
    {
     "name": "stdout",
     "output_type": "stream",
     "text": [
      "# - Time: 0 - Tide Elevation in meters: [0.07123420934248643]\n",
      "# - Time: 1 - Tide Elevation in meters: [-0.00802606232276636]\n",
      "# - Time: 2 - Tide Elevation in meters: [-0.05882280141999809]\n",
      "# - Time: 3 - Tide Elevation in meters: [-0.09121551532981356]\n",
      "# - Time: 4 - Tide Elevation in meters: [-0.11927247550782984]\n",
      "# - Time: 5 - Tide Elevation in meters: [-0.1560180677296059]\n",
      "# - Time: 6 - Tide Elevation in meters: [-0.20892853674420167]\n",
      "# - Time: 7 - Tide Elevation in meters: [-0.2771759888963532]\n",
      "# - Time: 8 - Tide Elevation in meters: [-0.35131948036665367]\n",
      "# - Time: 9 - Tide Elevation in meters: [-0.41547845904278713]\n",
      "# - Time: 10 - Tide Elevation in meters: [-0.4513747007152496]\n",
      "# - Time: 11 - Tide Elevation in meters: [-0.4431604119563977]\n",
      "# - Time: 12 - Tide Elevation in meters: [-0.3817754749286574]\n",
      "# - Time: 13 - Tide Elevation in meters: [-0.26772895682886516]\n",
      "# - Time: 14 - Tide Elevation in meters: [-0.11162696282062534]\n",
      "# - Time: 15 - Tide Elevation in meters: [0.06764935205671327]\n",
      "# - Time: 16 - Tide Elevation in meters: [0.24662937330145085]\n",
      "# - Time: 17 - Tide Elevation in meters: [0.4018799015178072]\n",
      "# - Time: 18 - Tide Elevation in meters: [0.5144638736995464]\n",
      "# - Time: 19 - Tide Elevation in meters: [0.5732175031508424]\n",
      "# - Time: 20 - Tide Elevation in meters: [0.5761721227843796]\n",
      "# - Time: 21 - Tide Elevation in meters: [0.5299315196113324]\n",
      "# - Time: 22 - Tide Elevation in meters: [0.44731512048143934]\n",
      "# - Time: 23 - Tide Elevation in meters: [0.34396648798715945]\n"
     ]
    }
   ],
   "source": [
    "# - Compute Tidal Correction\n",
    "int_time = datetime.datetime.now()      # - Measure Computation time\n",
    "tidal_cycle = []\n",
    "\n",
    "if model == 'CATS2008':\n",
    "    # - Define path to CATS2008 data - NEED TO EDIT\n",
    "    tide_dir = os.path.join(data_dir, 'cats2008_tmd')\n",
    "    grid_file = os.path.join(tide_dir, 'grid_CATS2008')\n",
    "    model_file = os.path.join(tide_dir, 'hf.CATS2008.out')\n",
    "    # - pyTDM parameters\n",
    "    model_format = 'OTIS'\n",
    "    epsg_code = 'CATS2008'\n",
    "    # -- read tidal constants and interpolate to grid points\n",
    "    # model_format in ('OTIS','ATLAS'):\n",
    "    amp, ph, d, c = extract_tidal_constants(pt_lon, pt_lat, grid_file,\n",
    "                                            model_file, epsg_code,\n",
    "                                            TYPE=var_type,\n",
    "                                            METHOD='spline',\n",
    "                                            GRID=model_format)\n",
    "    # -- calculate complex phase in radians for Euler's\n",
    "    cph = -1j * ph * np.pi / 180.0\n",
    "    # -- calculate constituent oscillation\n",
    "    hc = amp * np.exp(cph)\n",
    "\n",
    "    # - tidal cycle\n",
    "    tidal_cycle = []\n",
    "    for h in range(24):\n",
    "        # -- predict tidal elevations at time and infer minor corrections\n",
    "        tide_p = predict_tide(delta_time[h], hc, c, DELTAT=0,\n",
    "                              CORRECTIONS=model_format)\n",
    "        minor_p = infer_minor_corrections(delta_time[h], hc, c,\n",
    "                                          DELTAT=0,\n",
    "                                          CORRECTIONS=model_format)\n",
    "        print(f'# - Time: {h} - Tide Elevation in meters: {tide_p+minor_p}')\n",
    "        tidal_cycle.append(tide_p+minor_p)\n",
    "\n",
    "elif model == 'FES2014':\n",
    "    # - Define path to FES2014 data  - NEED TO EDIT\n",
    "    model_directory = os.path.join(data_dir, 'AVISO',\n",
    "                                   'fes2014_elevations_and_load',\n",
    "                                   'fes2014b_elevations',\n",
    "                                   'ocean_tide')\n",
    "\n",
    "    model_files = ['2n2.nc', 'eps2.nc', 'j1.nc', 'k1.nc',\n",
    "                   'k2.nc', 'l2.nc', 'la2.nc', 'm2.nc', 'm3.nc', 'm4.nc',\n",
    "                   'm6.nc', 'm8.nc', 'mf.nc', 'mks2.nc', 'mm.nc',\n",
    "                   'mn4.nc', 'ms4.nc', 'msf.nc', 'msqm.nc', 'mtm.nc',\n",
    "                   'mu2.nc', 'n2.nc', 'n4.nc', 'nu2.nc', 'o1.nc', 'p1.nc',\n",
    "                   'q1.nc', 'r2.nc', 's1.nc', 's2.nc', 's4.nc', 'sa.nc',\n",
    "                   'ssa.nc', 't2.nc']\n",
    "    model_file = [os.path.join(model_directory, x) for x in model_files]\n",
    "    model_version = 'FES2014'\n",
    "    model_format = 'FES'\n",
    "    model_type = 'z'\n",
    "    model_scale = 1.0/100.0\n",
    "\n",
    "    amp, ph = extract_FES_constants(pt_lon, pt_lat,\n",
    "                                    model_file, TYPE=model_type,\n",
    "                                    VERSION=model_version,\n",
    "                                    METHOD='spline', EXTRAPOLATE=False,\n",
    "                                    CUTOFF=None,\n",
    "                                    SCALE=model_scale, GZIP=False)\n",
    "    # -- available model constituents\n",
    "    c = ['2n2', 'eps2', 'j1', 'k1', 'k2', 'l2',\n",
    "         'lambda2', 'm2', 'm3', 'm4', 'm6', 'm8', 'mf', 'mks2', 'mm',\n",
    "         'mn4', 'ms4', 'msf', 'msqm', 'mtm', 'mu2', 'n2', 'n4', 'nu2',\n",
    "         'o1', 'p1', 'q1', 'r2', 's1', 's2', 's4', 'sa', 'ssa', 't2']\n",
    "\n",
    "    # -- calculate complex phase in radians for Euler's\n",
    "    cph = -1j * ph * np.pi / 180.0\n",
    "    # -- calculate constituent oscillation\n",
    "    hc = amp * np.exp(cph)\n",
    "\n",
    "    # - tidal cycle\n",
    "    tidal_cycle = []\n",
    "    for h in range(24):\n",
    "        # -- predict tidal elevations at time and infer minor corrections\n",
    "        tide_p = predict_tide(delta_time[h], hc, c, DELTAT=0,\n",
    "                              CORRECTIONS=model_format)\n",
    "        minor_p = infer_minor_corrections(delta_time[h], hc, c,\n",
    "                                          DELTAT=0,\n",
    "                                          CORRECTIONS=model_format)\n",
    "        print(f'# - Time: {h} - Tide Elevation in meters: '\n",
    "              f'{ tide_p+minor_p[0]}')\n",
    "        tidal_cycle.append(tide_p+minor_p)\n",
    "\n",
    "    int_time_2 = datetime.datetime.now()\n",
    "    print(f\"\\n# - Computation Time - FES2014: {int_time_2 - int_time}\")"
   ],
   "metadata": {
    "collapsed": false,
    "pycharm": {
     "name": "#%%\n"
    }
   }
  },
  {
   "cell_type": "code",
   "execution_count": 6,
   "outputs": [
    {
     "data": {
      "text/plain": "<Figure size 432x288 with 1 Axes>",
      "image/png": "[encoded data removed]"
     },
     "metadata": {
      "needs_background": "light"
     },
     "output_type": "display_data"
    }
   ],
   "source": [
    "# - Plot the Computed Daily tidal correction\n",
    "plt.figure()\n",
    "plt.plot(np.arange(24), tidal_cycle, color='b', label=model)\n",
    "plt.xlabel('Hr')\n",
    "plt.ylabel('Tide Height [m]')\n",
    "plt.grid()\n",
    "plt.legend()\n",
    "plt.title(date)\n",
    "plt.show()"
   ],
   "metadata": {
    "collapsed": false,
    "pycharm": {
     "name": "#%%\n"
    }
   }
  },
  {
   "cell_type": "code",
   "execution_count": 7,
   "outputs": [],
   "source": [
    "# - Save the Computed Daily Correction\n",
    "with open(os.path.join(out_dir, model+f'_tide_height[m]_LON={pt_lon}_LAT={pt_lat}_{month}-{day}-{year}.txt'), 'w', encoding='utf8') as w_fid:\n",
    "    print('Date'.ljust(25)+'Tide Height [m]', file=w_fid)\n",
    "    for cnt, dt in enumerate(t_est_tide):\n",
    "        print(f'{datetime.datetime.strftime(dt, \"%d/%m/%Y %H:%M:%S\"):25}{tidal_cycle[cnt][0]}', file=w_fid)"
   ],
   "metadata": {
    "collapsed": false,
    "pycharm": {
     "name": "#%%\n"
    }
   }
  },
  {
   "cell_type": "code",
   "execution_count": null,
   "outputs": [],
   "source": [],
   "metadata": {
    "collapsed": false,
    "pycharm": {
     "name": "#%%\n"
    }
   }
  }
 ],
 "metadata": {
  "kernelspec": {
   "display_name": "Python 3",
   "language": "python",
   "name": "python3"
  },
  "language_info": {
   "codemirror_mode": {
    "name": "ipython",
    "version": 2
   },
   "file_extension": ".py",
   "mimetype": "text/x-python",
   "name": "python",
   "nbconvert_exporter": "python",
   "pygments_lexer": "ipython2",
   "version": "2.7.6"
  }
 },
 "nbformat": 4,
 "nbformat_minor": 0
}